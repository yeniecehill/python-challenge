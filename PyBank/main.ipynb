{
 "cells": [
  {
   "cell_type": "code",
   "execution_count": 28,
   "id": "aabeb560-b897-4526-af57-ffce7281279a",
   "metadata": {},
   "outputs": [
    {
     "name": "stdout",
     "output_type": "stream",
     "text": [
      "Total number of months: 86\n",
      "Net total amount of Profit/Losses 38382578\n"
     ]
    }
   ],
   "source": [
    "import csv\n",
    "\n",
    "total_profit = 0\n",
    "num_months = 0\n",
    "with open ('budget_data.csv', 'r') as csvfile:\n",
    "    csvreader = csv.reader(csvfile)\n",
    "    next(csvreader)\n",
    "    for row in csvreader: \n",
    "        num_months += 1\n",
    "        total_profit += int(row[1])\n",
    "print(\"Total number of months:\", num_months)\n",
    "print(\"Net total amount of Profit/Losses\", total_profit)\n",
    "\n",
    "previous_profit_loss = 0\n",
    "total_profit_loss_change = 0\n",
    "greatest_increase_profit = 0\n",
    "greatest_increase_date = \"\"\n",
    "greatest_decrease_loss = 0\n",
    "greatest_decrease_date = \"\"\n",
    "total_change = 0"
   ]
  },
  {
   "cell_type": "code",
   "execution_count": 38,
   "id": "50f678d4-7fad-4f04-a587-6bf04acb7cfc",
   "metadata": {},
   "outputs": [
    {
     "name": "stdout",
     "output_type": "stream",
     "text": [
      "Average Change: 7803.476744186047\n",
      "Greatest Increase in Profits:  (0\n",
      "Greatest Decrease in Profits: Feb-2017 (-37711479\n"
     ]
    }
   ],
   "source": [
    "change = int(row[1]) - total_profit\n",
    "total_change += change\n",
    "if change > greatest_increase_profit:\n",
    "    greatest_increase_profit = change\n",
    "    greatest_increase_date = row[1]\n",
    "if change < greatest_decrease_loss:\n",
    "    greatest_decrease_loss = change\n",
    "    greatest_decrease_date = row[1]\n",
    "total_profit = int(row[1])\n",
    "\n",
    "average_change = total_profit / num_months\n",
    "\n",
    "print(f\"Average Change: {average_change}\")\n",
    "print(f\"Greatest Increase in Profits: {greatest_increase_date} ({greatest_increase_profit}\")\n",
    "print(f\"Greatest Decrease in Profits: {greatest_decrease_date} ({greatest_decrease_loss}\")"
   ]
  },
  {
   "cell_type": "code",
   "execution_count": null,
   "id": "ece9df33-c5d5-4f55-9bdb-d43adca0289f",
   "metadata": {},
   "outputs": [],
   "source": []
  }
 ],
 "metadata": {
  "kernelspec": {
   "display_name": "Python 3 (ipykernel)",
   "language": "python",
   "name": "python3"
  },
  "language_info": {
   "codemirror_mode": {
    "name": "ipython",
    "version": 3
   },
   "file_extension": ".py",
   "mimetype": "text/x-python",
   "name": "python",
   "nbconvert_exporter": "python",
   "pygments_lexer": "ipython3",
   "version": "3.9.13"
  }
 },
 "nbformat": 4,
 "nbformat_minor": 5
}
